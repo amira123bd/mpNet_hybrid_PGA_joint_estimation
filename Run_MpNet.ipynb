{
 "cells": [
  {
   "cell_type": "code",
   "execution_count": 1,
   "metadata": {},
   "outputs": [
    {
     "name": "stdout",
     "output_type": "stream",
     "text": [
      "Using device: cuda\n"
     ]
    }
   ],
   "source": [
    "import numpy as np\n",
    "import time\n",
    "import Mpnet_training\n",
    "import generate_steering\n",
    "from typing import Optional, Tuple\n",
    "import utils_function\n",
    "import torch\n",
    "from pathlib import Path\n",
    "import plots\n",
    "import mpnet_model\n",
    "import MP_MpNet_LS_estimation\n"
   ]
  },
  {
   "cell_type": "code",
   "execution_count": 2,
   "metadata": {},
   "outputs": [],
   "source": [
    "start_time = time.time()\n",
    "\n",
    "######model hyperparams######\n",
    "optimizer='Adam'\n",
    "lr = 0.01\n",
    "lr_constrained=1e-5\n",
    "momentum = 0.9\n",
    "epochs = 1\n",
    "batch_size = 300\n",
    "k = 8\n",
    "batch_subsampling = 10\n",
    "\n",
    "#Channels generation parameters\n",
    "nb_channels_test = 1000\n",
    "nb_channels_train=100\n",
    "nb_channels_val = 500\n",
    "nb_channels_per_batch=100\n",
    "nb_BS_antenna=64\n",
    "\n",
    "\n",
    "#imperfect config parameters\n",
    "snr_in_dB = 10 \n",
    "train_type = 'Online'\n",
    "\n",
    "#scene generation params\n",
    "BS_position=[-302, 42, 23.0]\n",
    "f0=28e9 #HZ\n",
    "\n",
    "sigma_ant= 0.1\n",
    "noise_var= 1e-3\n",
    "\n",
    "# RF chains \n",
    "L = 10\n",
    "T = 1\n"
   ]
  },
  {
   "cell_type": "code",
   "execution_count": 3,
   "metadata": {},
   "outputs": [],
   "source": [
    "#get real and nominal antenna pos\n",
    "path_init=Path.cwd()\n",
    "file_name = r'Data/datasionna/antenna_position.npz'  \n",
    "antenna_pos = np.load(path_init/file_name)\n",
    "nominal_ant_positions=antenna_pos['nominal_position']\n",
    "real_ant_positions=antenna_pos['real_position']\n"
   ]
  },
  {
   "cell_type": "code",
   "execution_count": 4,
   "metadata": {},
   "outputs": [],
   "source": [
    "######Dictionnary parameters######\n",
    "#random Azimuth angles uniformly distributed between 0 and 2*pi\n",
    "DoA= np.load(path_init/'Data/DoA.npz')['DoA']\n",
    "g_vec= np.ones(nb_BS_antenna)\n",
    "lambda_ =  0.010706874\n"
   ]
  },
  {
   "cell_type": "code",
   "execution_count": 5,
   "metadata": {},
   "outputs": [],
   "source": [
    "model = Mpnet_training.UnfoldingModel_Sim(\n",
    "                 BS_position,\n",
    "                 nominal_ant_positions,\n",
    "                 real_ant_positions,\n",
    "                 sigma_ant,\n",
    "                 DoA,\n",
    "                 g_vec,\n",
    "                 lambda_,\n",
    "                 snr_in_dB,                  \n",
    "                 lr,\n",
    "                 lr_constrained,\n",
    "                 momentum,                 \n",
    "                 optimizer,\n",
    "                 epochs, batch_size,\n",
    "                 k, \n",
    "                 batch_subsampling,\n",
    "                 train_type,\n",
    "                 f0,\n",
    "                 nb_channels_test,\n",
    "                 nb_channels_train,\n",
    "                 nb_channels_val,\n",
    "                 nb_channels_per_batch,\n",
    "                 nb_BS_antenna,\n",
    "                 L,\n",
    "                 T,\n",
    "                 noise_var\n",
    ")"
   ]
  },
  {
   "cell_type": "code",
   "execution_count": null,
   "metadata": {},
   "outputs": [],
   "source": [
    "model.train_online_test_inference()  "
   ]
  },
  {
   "cell_type": "code",
   "execution_count": 8,
   "metadata": {},
   "outputs": [],
   "source": [
    "m = {}\n",
    "m[f'{T}'] = model.cost_func_test_c\n",
    "# Save data\n",
    "np.savez(path_init / 'NMSE_L_T' / f'T_{T}.npz', **m)\n"
   ]
  },
  {
   "cell_type": "code",
   "execution_count": 7,
   "metadata": {},
   "outputs": [],
   "source": [
    "m = {}\n",
    "m['real'] = model.cost_func_mp_real\n",
    "# Save data\n",
    "np.savez(path_init / 'NMSE_L_T' / f'real.npz', **m)\n"
   ]
  },
  {
   "cell_type": "code",
   "execution_count": 9,
   "metadata": {},
   "outputs": [],
   "source": [
    "m = {}\n",
    "m['ls'] = model.cost_func_ls\n",
    "# Save data\n",
    "np.savez(path_init / 'NMSE_L_T' / f'ls.npz', **m)"
   ]
  },
  {
   "cell_type": "code",
   "execution_count": null,
   "metadata": {},
   "outputs": [],
   "source": [
    "import matplotlib.pyplot as plt\n",
    "plt.rcParams['text.usetex'] = True\n",
    "vec_base = np.arange(0,model.batch_size/model.batch_subsampling,1)\n",
    "#plt.plot(vec_base,model.cost_func_test,'p-',linewidth=0.8,label='mpNet')  \n",
    "plt.plot(vec_base,model.cost_func_test_c[:batch_size],'-',linewidth=1.3,label='mpNet Constrained ')\n",
    "plt.plot(vec_base,model.cost_func_mp_nominal[:batch_size],'-',linewidth=1.3,label='MP (Nominal dictionnary) ')\n",
    "plt.plot(vec_base,model.cost_func_mp_real[:batch_size],'-',linewidth=1.3,label='MP (Real dictionnary) ')  \n",
    "#plt.plot(vec_base,self.cost_func_ls,'o--',linewidth=0.8,label='LS')  \n",
    "plt.grid()\n",
    "plt.legend(loc = 'best')\n",
    "plt.xlabel(f'Number of seen channels (*{model.batch_subsampling*model.nb_channels_per_batch})')\n",
    "plt.ylabel('NMSE')\n",
    "plt.title(f'NMSE evolution: L={L}, T={T},  $\\\\sigma^2$ = 1e-3, SNR_Avg=10 dB')\n",
    "plt.xlim(left=0)\n",
    "plt.xlim(right=29)"
   ]
  },
  {
   "cell_type": "code",
   "execution_count": null,
   "metadata": {},
   "outputs": [],
   "source": [
    "#--------------MPnET_MP_LS_estimation--------------\n",
    "L=24\n",
    "model_=\"Data/mpnet_L_24_T_1_noise_1e-3.pth\"\n",
    "data_file='Data/1e-3/data_var_snr'\n",
    "data_pred_mpnet=f'Data/1e-3/Estimation/L_{L}_T_{1}/mpnet'\n",
    "data_pred_MP_nominal='Data/1e-3/Estimation/nominal'\n",
    "data_pred_MP_real='Data/1e-3/Estimation/real'\n",
    "data_pred_LS='Data/1e-3/Estimation/ls'\n",
    "batch_size_est=300\n",
    "\n",
    "#construct nominal dictionnary \n",
    "dict_nominal=generate_steering.steering_vect_c(torch.tensor(nominal_ant_positions).type(torch.FloatTensor),\n",
    "                                                       torch.tensor(DoA).type(torch.FloatTensor),\n",
    "                                                       torch.tensor(g_vec),\n",
    "                                                       lambda_)\n",
    "#construct real dictionnary \n",
    "dict_real   =generate_steering.steering_vect_c(torch.tensor(real_ant_positions).type(torch.FloatTensor),\n",
    "                                                       torch.tensor(DoA).type(torch.FloatTensor),\n",
    "                                                       torch.tensor(g_vec),\n",
    "                                                       lambda_)\n",
    "\n",
    "\n",
    "\n",
    "MP_MpNet_LS_estimation.save_estimation(model_,data_file,data_pred_mpnet,data_pred_MP_nominal,data_pred_MP_real,data_pred_LS,batch_size_est,k,T,L,dict_nominal,dict_real,\n",
    "                                       nominal_ant_positions,DoA,g_vec,lambda_,nb_BS_antenna)\n",
    "\n"
   ]
  },
  {
   "cell_type": "code",
   "execution_count": null,
   "metadata": {},
   "outputs": [],
   "source": []
  },
  {
   "cell_type": "code",
   "execution_count": null,
   "metadata": {},
   "outputs": [],
   "source": []
  }
 ],
 "metadata": {
  "kernelspec": {
   "display_name": "base",
   "language": "python",
   "name": "python3"
  },
  "language_info": {
   "codemirror_mode": {
    "name": "ipython",
    "version": 3
   },
   "file_extension": ".py",
   "mimetype": "text/x-python",
   "name": "python",
   "nbconvert_exporter": "python",
   "pygments_lexer": "ipython3",
   "version": "3.12.4"
  }
 },
 "nbformat": 4,
 "nbformat_minor": 2
}
