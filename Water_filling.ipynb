{
 "cells": [
  {
   "cell_type": "code",
   "execution_count": 12,
   "metadata": {},
   "outputs": [],
   "source": [
    "\n",
    "import numpy as np\n",
    "import ProjGradAscent\n",
    "import mpnet_model\n",
    "import End_to_End_model\n",
    "import utils_function\n",
    "#import plots\n",
    "import time\n",
    "from pathlib import Path\n",
    "import torch\n",
    "\n"
   ]
  },
  {
   "cell_type": "code",
   "execution_count": 14,
   "metadata": {},
   "outputs": [],
   "source": [
    "N     = 4        # Num of users\n",
    "L     = 10       # RF chains\n",
    "T     = 1        # Instant\n",
    "M     = 64       # BS antennas\n",
    "m     = T*L      # mesures\n",
    "N0    = 1e-3     # noise variance\n",
    "test_size  = 1000# NUMBER OF MIMO CHANNELS  \n"
   ]
  },
  {
   "cell_type": "code",
   "execution_count": 15,
   "metadata": {},
   "outputs": [],
   "source": [
    "\n",
    "#Load data\n",
    "path_init=Path.cwd()\n",
    "file_name = 'Data/1e-3/data_var_snr/test_data.npz'  \n",
    "data = np.load(path_init/file_name)\n"
   ]
  },
  {
   "cell_type": "code",
   "execution_count": 16,
   "metadata": {},
   "outputs": [],
   "source": [
    "h=torch.tensor(data['h'],dtype=torch.complex128)"
   ]
  },
  {
   "cell_type": "code",
   "execution_count": 17,
   "metadata": {},
   "outputs": [],
   "source": [
    "\n",
    "H_test=(h).view(-1,N,M)\n",
    "P=np.linalg.norm(H_test,ord='fro',axis=(1,2))**2 / (M*N0)\n",
    "Pi=np.linalg.norm(h,2,axis=1)**2/ (M * N0)\n",
    "SNR_dB= 10*np.log10(P)"
   ]
  },
  {
   "cell_type": "code",
   "execution_count": null,
   "metadata": {},
   "outputs": [],
   "source": [
    "S1=[]\n",
    "S2=[]\n",
    "\n",
    "for i in range(H_test.shape[0]):\n",
    "\n",
    "    # SVD of the channels\n",
    "    u, lambda_, vh= torch.linalg.svd(H_test, full_matrices=True)\n",
    "    g=np.abs(lambda_**2) # channel's gains^2\n",
    "    g=g[i].unsqueeze(1).numpy()\n",
    "    P=1  # if s2 formula will be used \n",
    "   #P=P # if s1 formula will be used\n",
    "\n",
    "\n",
    "    # Bisection search for alpha \n",
    "    alpha_low = min(N0/g) # Initial low\n",
    "    alpha_high = (P + np.sum(N0/g))/N # Initial high\n",
    "\n",
    "    #print(alpha_high)\n",
    "    #print(alpha_low)\n",
    "\n",
    "\n",
    "    stop_threshold = 1e-15# Stop threshold\n",
    "\n",
    "\n",
    "    # Iterate while low/high bounds are further than stop_threshold\n",
    "    while(np.abs(alpha_low - alpha_high) > stop_threshold):\n",
    "\n",
    "        alpha = (alpha_low + alpha_high) / 2 # Test value in the middle of low/high\n",
    "\n",
    "\n",
    "        # Solve the power allocation\n",
    "        p = alpha - N0/g \n",
    "     \n",
    "    \n",
    "        p[p < 0] = 0 # Consider only positive power allocation\n",
    "        \n",
    "\n",
    "     \n",
    "        if (np.sum(p) > P): # Exceeds power limit => lower the upper bound\n",
    "            #print('upper')\n",
    "            alpha_high = alpha\n",
    "        else: # Less than power limit => increase the lower bound\n",
    "\n",
    "            #print('low')\n",
    "            alpha_low = alpha\n",
    "\n",
    "\n",
    "    # Precoder Normalization check \n",
    "    F_BB=vh[i,:,:N].squeeze()\n",
    "    \n",
    "    F=F_BB @ np.diag(p.squeeze())\n",
    "\n",
    "    print(torch.linalg.norm(F,ord='fro')**2)\n",
    "\n",
    "\n",
    "    #direct sum rate formula \n",
    "    h=H_test[i]\n",
    "\n",
    "    Fopt=F\n",
    "    a1 = torch.transpose(Fopt, 0, 1).conj() @ torch.transpose(h, 0, 1).conj()\n",
    "    a3 = h @ Fopt @ a1\n",
    "    a4 = torch.eye(N).reshape((N, N)) + a3/(N*N0)  \n",
    "\n",
    "    \n",
    "    #s1 = torch.abs(torch.log(a4.det()))\n",
    "\n",
    "    #WF formula \n",
    "    s2= np.sum(np.log(1 + g*p/N0))\n",
    "\n",
    "\n",
    "\n",
    "    #S1.append(s1)\n",
    "    S2.append(s2)\n",
    "\n",
    "    "
   ]
  },
  {
   "cell_type": "code",
   "execution_count": null,
   "metadata": {},
   "outputs": [],
   "source": [
    "\n",
    "#print(np.mean(S1))"
   ]
  },
  {
   "cell_type": "code",
   "execution_count": null,
   "metadata": {},
   "outputs": [],
   "source": [
    "\n",
    "print(np.mean(S2))"
   ]
  },
  {
   "cell_type": "code",
   "execution_count": 22,
   "metadata": {},
   "outputs": [],
   "source": [
    "# save sum rate\n",
    "sum_rate={}\n",
    "sum_rate['wf']=np.mean(S2)\n",
    "np.savez(path_init / 'sumRate'/'1e-3'/'wf.npz', **sum_rate)\n"
   ]
  },
  {
   "cell_type": "code",
   "execution_count": null,
   "metadata": {},
   "outputs": [],
   "source": []
  }
 ],
 "metadata": {
  "kernelspec": {
   "display_name": "anaconda3_20240417",
   "language": "python",
   "name": "python3"
  },
  "language_info": {
   "codemirror_mode": {
    "name": "ipython",
    "version": 3
   },
   "file_extension": ".py",
   "mimetype": "text/x-python",
   "name": "python",
   "nbconvert_exporter": "python",
   "pygments_lexer": "ipython3",
   "version": "3.12.4"
  }
 },
 "nbformat": 4,
 "nbformat_minor": 2
}
